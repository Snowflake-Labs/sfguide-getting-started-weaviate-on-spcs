{
 "cells": [
  {
   "cell_type": "code",
   "execution_count": null,
   "id": "5e5cdb0b-b2e1-412c-9a29-f608a7db1b26",
   "metadata": {},
   "outputs": [],
   "source": [
    "import weaviate\n",
    "import json\n",
    "import os\n",
    "print(\"Connecting...\")\n",
    "\n",
    "\n",
    "client = weaviate.connect_to_custom(\n",
    "    http_host=\"weaviate\",\n",
    "    http_port=\"8080\",\n",
    "    http_secure=False,\n",
    "    grpc_host=\"weaviate\",\n",
    "    grpc_port=\"50051\",\n",
    "    grpc_secure=False\n",
    ")\n",
    "\n",
    "\n",
    "print(\"Success!\")\n",
    "\n"
   ]
  },
  {
   "cell_type": "code",
   "execution_count": null,
   "id": "61ba1219-3ebf-4da9-9d69-5defd55023ac",
   "metadata": {},
   "outputs": [],
   "source": [
    "import weaviate.classes as wvc\n",
    "\n",
    "#Create the collection for products\n",
    "collection = client.collections.create(\n",
    "    name=\"Questions\",\n",
    "    vectorizer_config=wvc.Configure.Vectorizer.text2vec_transformers(),\n",
    "    properties=[\n",
    "        wvc.Property(\n",
    "            name=\"answer\",\n",
    "            data_type=wvc.DataType.TEXT\n",
    "        ),\n",
    "         wvc.Property(\n",
    "            name=\"question\",\n",
    "            data_type=wvc.DataType.TEXT\n",
    "        ),\n",
    "         wvc.Property(\n",
    "            name=\"category\",\n",
    "            data_type=wvc.DataType.TEXT\n",
    "        )\n",
    "    ]\n",
    ")\n",
    "\n",
    "print(\"Collection Created!\")\n",
    "\n"
   ]
  },
  {
   "cell_type": "code",
   "execution_count": null,
   "id": "436f6576-f1df-4008-857e-2a3b402ce48b",
   "metadata": {},
   "outputs": [],
   "source": [
    "items_to_insert = []\n",
    "with open(\"SampleJSON.json\") as file:\n",
    " data = json.load(file)\n",
    "\n",
    "for i, d in enumerate(data):\n",
    "   new_item = {\n",
    "       \"answer\": d[\"Answer\"],\n",
    "       \"question\": d[\"Question\"],\n",
    "       \"category\": d[\"Category\"],\n",
    "   }\n",
    "   items_to_insert.append(new_item)\n",
    "   # Insert every 100 items\n",
    "   if(len(items_to_insert) == 100):\n",
    "       collection.data.insert_many(items_to_insert)\n",
    "       items_to_insert.clear()\n",
    "\n",
    "# Insert remaining items\n",
    "if(len(items_to_insert) > 0):\n",
    "   collection.data.insert_many(items_to_insert)\n",
    "\n",
    "print(\"Data inserted into Weaviate!\")"
   ]
  },
  {
   "cell_type": "code",
   "execution_count": null,
   "id": "028c533f-8c3a-47ae-8f0f-8a4f0fc1ae7f",
   "metadata": {},
   "outputs": [],
   "source": [
    "items_to_insert = []\n",
    "with open(\"SampleJSON.json\") as file:\n",
    " data = json.load(file)\n",
    "\n",
    "for i, d in enumerate(data):\n",
    "   new_item = {\n",
    "       \"answer\": d[\"Answer\"],\n",
    "       \"question\": d[\"Question\"],\n",
    "       \"category\": d[\"Category\"],\n",
    "   }\n",
    "   items_to_insert.append(new_item)\n",
    "   # Insert every 100 items\n",
    "   if(len(items_to_insert) == 100):\n",
    "       collection.data.insert_many(items_to_insert)\n",
    "       items_to_insert.clear()\n",
    "\n",
    "# Insert remaining items\n",
    "if(len(items_to_insert) > 0):\n",
    "   collection.data.insert_many(items_to_insert)\n",
    "\n",
    "print(\"Data inserted into Weaviate!\")"
   ]
  },
  {
   "cell_type": "code",
   "execution_count": null,
   "id": "15583679-6083-474c-af53-c979b3528b8e",
   "metadata": {},
   "outputs": [],
   "source": [
    "# run a simple search\n",
    "response = collection.query.near_text(query=\"animal\",limit=2, include_vector=True)\n",
    "#confirm vectors exists\n",
    "for o in response.objects:\n",
    "    print(o.vector)"
   ]
  },
  {
   "cell_type": "code",
   "execution_count": null,
   "id": "6e629e9e-6fc4-463a-adba-63ff2bd1d81a",
   "metadata": {},
   "outputs": [],
   "source": [
    "#Hybrid search\n",
    "response = collection.query.hybrid(\n",
    "    query=\"animals\",\n",
    "    limit=5\n",
    ")\n",
    "\n",
    "for o in response.objects:\n",
    "    print(o.properties)"
   ]
  }
 ],
 "metadata": {
  "kernelspec": {
   "display_name": "Python 3 (ipykernel)",
   "language": "python",
   "name": "python3"
  },
  "language_info": {
   "codemirror_mode": {
    "name": "ipython",
    "version": 3
   },
   "file_extension": ".py",
   "mimetype": "text/x-python",
   "name": "python",
   "nbconvert_exporter": "python",
   "pygments_lexer": "ipython3",
   "version": "3.11.6"
  }
 },
 "nbformat": 4,
 "nbformat_minor": 5
}
