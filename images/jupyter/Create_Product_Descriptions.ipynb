{
 "cells": [
  {
   "cell_type": "code",
   "execution_count": null,
   "id": "b960e419-6952-4cf3-8c0d-6f5ccc889a77",
   "metadata": {},
   "outputs": [],
   "source": [
    "import os\n",
    "from json import loads\n",
    "from ollama import Client\n",
    "from pandas import DataFrame, concat\n",
    "from snowflake.snowpark import Session"
   ]
  },
  {
   "cell_type": "code",
   "execution_count": null,
   "id": "fef7fb02-0ad6-4a2e-9ecc-4c29707d5edb",
   "metadata": {},
   "outputs": [],
   "source": [
    "product_record_limit = 50"
   ]
  },
  {
   "cell_type": "code",
   "execution_count": null,
   "id": "39072330-3ef7-499c-9e35-999aeb0322b7",
   "metadata": {},
   "outputs": [],
   "source": [
    "connection_params = {\n",
    "    'port': os.environ['SNOWFLAKE_PORT'],\n",
    "    'protocol': 'https',\n",
    "    'account': os.environ['SNOWFLAKE_ACCOUNT'],\n",
    "    'password':os.environ[\"SNOW_PASSWORD\"],\n",
    "    'role': os.environ[\"SNOW_ROLE\"],\n",
    "    'warehouse': os.environ[\"SNOW_WAREHOUSE\"],\n",
    "    'database': os.environ[\"SNOW_DATABASE\"],\n",
    "    'schema': os.environ[\"SNOW_SCHEMA\"],\n",
    "    'user': os.environ[\"SNOW_USER\"], \n",
    "}\n",
    "\n",
    "session = Session.builder.configs(connection_params).create()"
   ]
  },
  {
   "cell_type": "code",
   "execution_count": null,
   "id": "7f1caa48-bcdd-49c9-b3c9-a6465d0dd451",
   "metadata": {},
   "outputs": [],
   "source": [
    "prompts = session.sql(\"\"\"\n",
    "WITH\n",
    "\n",
    "    most_recent_reviews AS (\n",
    "        SELECT *\n",
    "        FROM WEAVIATE_DEMO.PUBLIC.PRODUCT_REVIEWS\n",
    "        QUALIFY (ROW_NUMBER() OVER (PARTITION BY ASIN ORDER BY UNIXREVIEWTIME DESC)) <=20\n",
    "    ),\n",
    "    \n",
    "    by_asin AS (\n",
    "        SELECT\n",
    "            asin,\n",
    "            array_agg(reviewtext) as reviewtext\n",
    "        FROM most_recent_reviews\n",
    "        GROUP BY asin\n",
    "    )\n",
    "\n",
    "SELECT \n",
    "ASIN,\n",
    "REGEXP_REPLACE(\n",
    "'Here are product reviews for a music product with an ID of ' ||\n",
    "ASIN ||\n",
    "'. Respond back only as only JSON! Only provide a single record returned. \n",
    "Provide the product \"description\", product \"name\", \n",
    "a summary of all the reviews as \"review_summary\", \n",
    "the \"ASIN\" and product \"features\" based on the content of these reviews. \n",
    "The \"features\" should be a string describing the features and NOT JSON. \n",
    "Do not include the ASIN in the description field. The reviews for the product are: ',\n",
    "'\\n|\\t', '') ||\n",
    "array_to_string(reviewtext, '\\n') AS prompt\n",
    "FROM by_asin\n",
    "\"\"\").to_pandas()\n",
    "\n",
    "prompts = prompts.head(product_record_limit)"
   ]
  },
  {
   "cell_type": "code",
   "execution_count": null,
   "id": "d7338802-d176-4604-9402-a1fdd1e32860",
   "metadata": {},
   "outputs": [],
   "source": [
    "ollama = Client(host='http://ollama:11434')"
   ]
  },
  {
   "cell_type": "code",
   "execution_count": null,
   "id": "9c3bd3b0-28ce-456d-8def-0dca06e39683",
   "metadata": {},
   "outputs": [],
   "source": [
    "review_summaries = []\n",
    "counter = 0\n",
    "\n",
    "for id, p in prompts.iterrows():\n",
    "    counter +=1\n",
    "    print(f'Getting review summary {counter} of {len(prompts)}, ASIN: {p.ASIN}')\n",
    "    try:\n",
    "        response = ollama.chat(\n",
    "            model='mistral',\n",
    "            messages=[{\n",
    "                'role': 'user',\n",
    "                'content': p.PROMPT\n",
    "            }]\n",
    "        )\n",
    "        summary = loads(response['message']['content'])\n",
    "        summary[\"ASIN\"] = p.ASIN\n",
    "        review_summaries.append(summary)\n",
    "    except:\n",
    "        print(f'Issue with ASIN {p.ASIN}, skipping')\n",
    "        pass\n",
    "\n",
    "review_summaries = DataFrame(review_summaries)\n",
    "\n",
    "print(\"Done!\")"
   ]
  },
  {
   "cell_type": "code",
   "execution_count": null,
   "id": "5aae31fb-5b04-44d9-81e8-7807e5adca26",
   "metadata": {},
   "outputs": [],
   "source": [
    "session.write_pandas(\n",
    "    df=review_summaries,\n",
    "    table_name='PRODUCTS',\n",
    "    schema=os.environ[\"SNOW_SCHEMA\"],\n",
    "    database = os.environ[\"SNOW_DATABASE\"],\n",
    "    overwrite=True,\n",
    "    quote_identifiers=False,\n",
    "    auto_create_table=True\n",
    ")"
   ]
  }
 ],
 "metadata": {
  "kernelspec": {
   "display_name": "Python 3 (ipykernel)",
   "language": "python",
   "name": "python3"
  },
  "language_info": {
   "codemirror_mode": {
    "name": "ipython",
    "version": 3
   },
   "file_extension": ".py",
   "mimetype": "text/x-python",
   "name": "python",
   "nbconvert_exporter": "python",
   "pygments_lexer": "ipython3",
   "version": "3.11.6"
  }
 },
 "nbformat": 4,
 "nbformat_minor": 5
}
