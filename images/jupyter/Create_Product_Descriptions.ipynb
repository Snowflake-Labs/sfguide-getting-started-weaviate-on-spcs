{
 "cells": [
  {
   "cell_type": "code",
   "execution_count": null,
   "id": "b960e419-6952-4cf3-8c0d-6f5ccc889a77",
   "metadata": {},
   "outputs": [],
   "source": [
    "import os\n",
    "from json import loads\n",
    "from ollama import Client\n",
    "from pandas import DataFrame, concat\n",
    "from snowflake.snowpark import Session"
   ]
  },
  {
   "cell_type": "code",
   "execution_count": null,
   "id": "fef7fb02-0ad6-4a2e-9ecc-4c29707d5edb",
   "metadata": {},
   "outputs": [],
   "source": [
    "API_BASE = \"http://ollama:11434/api/generate\"\n",
    "product_record_limit = 50"
   ]
  },
  {
   "cell_type": "code",
   "execution_count": null,
   "id": "39072330-3ef7-499c-9e35-999aeb0322b7",
   "metadata": {},
   "outputs": [],
   "source": [
    "connection_params = {\n",
    "    'port': os.environ['SNOWFLAKE_PORT'],\n",
    "    'protocol': 'https',\n",
    "    'account': os.environ['SNOWFLAKE_ACCOUNT'],\n",
    "    'password':os.environ[\"SNOW_PASSWORD\"],\n",
    "    'role': os.environ[\"SNOW_ROLE\"],\n",
    "    'warehouse': os.environ[\"SNOW_WAREHOUSE\"],\n",
    "    'database': os.environ[\"SNOW_DATABASE\"],\n",
    "    'schema': os.environ[\"SNOW_SCHEMA\"],\n",
    "    'user': os.environ[\"SNOW_USER\"], \n",
    "}\n",
    "\n",
    "session = Session.builder.configs(connection_params).create()"
   ]
  },
  {
   "cell_type": "code",
   "execution_count": null,
   "id": "76db1495-153f-47d1-b918-36ecbbf5a427",
   "metadata": {},
   "outputs": [],
   "source": [
    "def build_prompt(asin: str, reviewtext: str):\n",
    "    PROMPT_TEMPLATE = f'Here are product reviews for a music product with an ID of \"{asin}\". Respond back only as only JSON! Only provide a single record returned. Provide the product \"description\", product \"name\", a summary of all the reviews as \"review_summary\", the \"ASIN\" and product \"features\" based on the content of these reviews. The \"features\" should be a string describing the features and NOT JSON. Do not include the ASIN in the description field. The reviews for the product are: {reviewtext}'\n",
    "    \n",
    "    return PROMPT_TEMPLATE"
   ]
  },
  {
   "cell_type": "code",
   "execution_count": null,
   "id": "e847cb8c-0934-4527-939b-32abaefa41e0",
   "metadata": {},
   "outputs": [],
   "source": [
    "def get_asins(limit=product_record_limit):\n",
    "    asins = session.table('PRODUCT_REVIEWS').select(\"ASIN\").distinct()\n",
    "    if limit:\n",
    "        asins = asins.limit(limit)\n",
    "    asins = asins.to_pandas()['ASIN'].to_list()\n",
    "    # handle NoneType ASINs\n",
    "    asins = [a for a in asins if a is not None]\n",
    "    return asins"
   ]
  },
  {
   "cell_type": "code",
   "execution_count": null,
   "id": "fc0e913e-14d7-4c58-96b9-2f9547a558ac",
   "metadata": {},
   "outputs": [],
   "source": [
    "def get_prompt(asin, review_limit=20):\n",
    "    reviews = session.table('PRODUCT_REVIEWS')\n",
    "    reviews = reviews.filter(reviews.ASIN == str(asin)).select('ASIN', 'REVIEWTEXT').limit(review_limit).to_pandas()\n",
    "    reviewtext = '\\n'.join(reviews[\"REVIEWTEXT\"].to_list())\n",
    "    return DataFrame(\n",
    "        {\n",
    "            \"ASIN\": [asin],\n",
    "            \"PROMPT\": [build_prompt(asin, reviewtext)]\n",
    "        }\n",
    "    )"
   ]
  },
  {
   "cell_type": "code",
   "execution_count": null,
   "id": "a3ad4bf9-fa99-4c33-8681-1c3eaf1b4aa3",
   "metadata": {},
   "outputs": [],
   "source": [
    "def get_prompts(limit=product_record_limit):\n",
    "    prompts = []\n",
    "    asins = get_asins(limit=limit)\n",
    "    for asin in asins:\n",
    "        try:\n",
    "            prompt = get_prompt(asin)\n",
    "            prompts.append(prompt)\n",
    "        except:\n",
    "            print(f'Issue with ASIN {asin}, skipping')\n",
    "            pass\n",
    "    return concat(prompts)"
   ]
  },
  {
   "cell_type": "code",
   "execution_count": null,
   "id": "41e2ff11-9e5a-475d-bc8c-cf9bd84e3093",
   "metadata": {},
   "outputs": [],
   "source": [
    "prompts = get_prompts()"
   ]
  },
  {
   "cell_type": "code",
   "execution_count": null,
   "id": "d7338802-d176-4604-9402-a1fdd1e32860",
   "metadata": {},
   "outputs": [],
   "source": [
    "ollama = Client(host='http://ollama:11434')"
   ]
  },
  {
   "cell_type": "code",
   "execution_count": null,
   "id": "9c3bd3b0-28ce-456d-8def-0dca06e39683",
   "metadata": {
    "vscode": {
     "languageId": "plaintext"
    }
   },
   "outputs": [],
   "source": [
    "review_summaries = []\n",
    "counter = 0\n",
    "\n",
    "for id, p in prompts.iterrows():\n",
    "    counter +=1\n",
    "    print(f'Getting review summary {counter} of {len(prompts)}, ASIN: {p.ASIN}')\n",
    "    try:\n",
    "        response = ollama.chat(\n",
    "            model='mistral',\n",
    "            messages=[{\n",
    "                'role': 'user',\n",
    "                'content': p.PROMPT\n",
    "            }]\n",
    "        )\n",
    "        summary = loads(response['message']['content'])\n",
    "        summary[\"ASIN\"] = p.ASIN\n",
    "        review_summaries.append(summary)\n",
    "    except:\n",
    "        print(f'Issue with ASIN {p.ASIN}, skipping')\n",
    "        pass\n",
    "\n",
    "review_summaries = DataFrame(review_summaries)\n",
    "\n",
    "print(\"Done!\")"
   ]
  },
  {
   "cell_type": "code",
   "execution_count": null,
   "id": "5aae31fb-5b04-44d9-81e8-7807e5adca26",
   "metadata": {},
   "outputs": [],
   "source": [
    "session.write_pandas(\n",
    "    df=review_summaries,\n",
    "    table_name='PRODUCTS',\n",
    "    schema=os.environ[\"SNOW_SCHEMA\"],\n",
    "    database = os.environ[\"SNOW_DATABASE\"],\n",
    "    overwrite=True,\n",
    "    quote_identifiers=False,\n",
    "    auto_create_table=True\n",
    ")"
   ]
  }
 ],
 "metadata": {
  "kernelspec": {
   "display_name": "Python 3 (ipykernel)",
   "language": "python",
   "name": "python3"
  },
  "language_info": {
   "codemirror_mode": {
    "name": "ipython",
    "version": 3
   },
   "file_extension": ".py",
   "mimetype": "text/x-python",
   "name": "python",
   "nbconvert_exporter": "python",
   "pygments_lexer": "ipython3",
   "version": "3.11.6"
  }
 },
 "nbformat": 4,
 "nbformat_minor": 5
}
