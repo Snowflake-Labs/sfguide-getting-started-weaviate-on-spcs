{
 "cells": [
  {
   "cell_type": "code",
   "execution_count": null,
   "metadata": {},
   "outputs": [],
   "source": [
    "import os\n",
    "import json, weaviate\n",
    "import weaviate.classes as wvc\n",
    "from snowflake.snowpark.types import StringType\n",
    "from snowflake.snowpark.functions import udf\n",
    "from snowflake.snowpark import Session\n",
    "import pandas as pd"
   ]
  },
  {
   "cell_type": "code",
   "execution_count": null,
   "metadata": {},
   "outputs": [],
   "source": [
    "#connect to snowflake\n",
    "connection_params = {\n",
    "    'port': os.environ['SNOWFLAKE_PORT'],\n",
    "    'protocol': 'https',\n",
    "    'account': os.environ['SNOW_ACCOUNT'],\n",
    "    'password': os.environ['SNOW_PASSWORD'],\n",
    "    'role': os.environ['SNOW_ROLE'],\n",
    "    'warehouse': os.environ['SNOW_WAREHOUSE'],\n",
    "    'database': os.environ['SNOW_DATABASE'],\n",
    "    'schema': os.environ['SNOW_SCHEMA'],\n",
    "    'user': os.environ['SNOW_USER']\n",
    "}\n",
    "\n",
    "\n",
    "session = Session.builder.configs(connection_params).create()\n",
    "\n",
    "#connect to weaviate\n",
    "client = weaviate.connect_to_custom(\n",
    "    http_host=\"weaviate\",\n",
    "    http_port=\"8080\",\n",
    "    http_secure=False,\n",
    "    grpc_host=\"weaviate\",\n",
    "    grpc_port=\"50051\",\n",
    "    grpc_secure=False\n",
    ")\n",
    "print(\"Connected to both Weaviate and Snowflake!\")"
   ]
  },
  {
   "cell_type": "code",
   "execution_count": null,
   "metadata": {},
   "outputs": [],
   "source": [
    "#Create the collection for products\n",
    "collection = client.collections.create(\n",
    "    name=\"products\",\n",
    "    vectorizer_config=wvc.config.Configure.Vectorizer.text2vec_transformers(),\n",
    "    properties=[\n",
    "        wvc.config.Property(\n",
    "            name=\"ASIN\",\n",
    "            data_type=wvc.DataType.TEXT\n",
    "        ),\n",
    "         wvc.config.Property(\n",
    "            name=\"name\",\n",
    "            data_type=wvc.DataType.TEXT\n",
    "        ),\n",
    "         wvc.config.Property(\n",
    "            name=\"review_summary\",\n",
    "            data_type=wvc.DataType.TEXT\n",
    "        ),\n",
    "         wvc.config.Property(\n",
    "            name=\"features\",\n",
    "            data_type=wvc.DataType.TEXT\n",
    "        ),\n",
    "         wvc.config.Property(\n",
    "            name=\"description\",\n",
    "            data_type=wvc.DataType.TEXT\n",
    "        ),\n",
    "    ]\n",
    ")\n",
    "\n",
    "print(\"Collection Created!\")"
   ]
  },
  {
   "cell_type": "code",
   "execution_count": null,
   "metadata": {},
   "outputs": [],
   "source": [
    "collection = client.collections.get(\"products\")\n",
    "df = session.table('PRODUCTS')\n",
    "df = df.toPandas()\n",
    "\n",
    "\n",
    "# Convert df to JSON string and then to a list of dictionaries\n",
    "data = df.to_json(orient='records')\n",
    "data_list = json.loads(data)\n",
    "\n",
    "items_to_insert = []\n",
    "\n",
    "for d in data_list:\n",
    "    new_item = {\n",
    "        \"ASIN\": d[\"ASIN\"],\n",
    "        \"name\": d[\"NAME\"],\n",
    "        \"description\": d[\"DESCRIPTION\"],  \\\n",
    "        \"features\": d[\"FEATURES\"],\n",
    "        \"review_summary\": d[\"REVIEW_SUMMARY\"]\n",
    "    }\n",
    "    items_to_insert.append(new_item)\n",
    "\n",
    "    # Insert every 100 items\n",
    "    if len(items_to_insert) == 100:\n",
    "        collection.data.insert_many(items_to_insert)\n",
    "        items_to_insert.clear()\n",
    "\n",
    "# Insert remaining items\n",
    "if len(items_to_insert) > 0:\n",
    "    collection.data.insert_many(items_to_insert)"
   ]
  },
  {
   "cell_type": "code",
   "execution_count": null,
   "metadata": {},
   "outputs": [],
   "source": [
    "# run a simple search\n",
    "response = collection.query.near_text(query=\"mic\",limit=2, include_vector=True)\n",
    "#confirm vectors exists\n",
    "for o in response.objects:\n",
    "    print(o.vector)\n",
    "\n"
   ]
  },
  {
   "cell_type": "code",
   "execution_count": null,
   "metadata": {},
   "outputs": [],
   "source": [
    "#Hybrid search\n",
    "response = collection.query.hybrid(\n",
    "    query=\"easy to learn instrument\",\n",
    "    limit=5\n",
    ")\n",
    "\n",
    "for o in response.objects:\n",
    "    print(o.properties)"
   ]
  },
  {
   "cell_type": "code",
   "execution_count": null,
   "metadata": {},
   "outputs": [],
   "source": [
    "#keyword search\n",
    "response = collection.query.bm25(\n",
    "    query=\"easy to learn instrument\",\n",
    "    limit=3\n",
    ")\n",
    "\n",
    "for o in response.objects:\n",
    "    print(o.properties)"
   ]
  }
 ],
 "metadata": {
  "language_info": {
   "name": "python"
  },
  "orig_nbformat": 4
 },
 "nbformat": 4,
 "nbformat_minor": 2
}
