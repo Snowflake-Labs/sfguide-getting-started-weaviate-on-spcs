{
 "cells": [
  {
   "cell_type": "code",
   "execution_count": null,
   "metadata": {
    "vscode": {
     "languageId": "sql"
    }
   },
   "outputs": [],
   "source": [
    "------------LOGIN---------\n",
    "snowsql -a \"YOURINSTANCE\" -u \"YOURUSER\""
   ]
  },
  {
   "cell_type": "code",
   "execution_count": null,
   "metadata": {
    "vscode": {
     "languageId": "sql"
    }
   },
   "outputs": [],
   "source": [
    "------------CREATE USER----------\n",
    "USE ROLE ACCOUNTADMIN;\n",
    "CREATE SECURITY INTEGRATION SNOWSERVICES_INGRESS_OAUTH\n",
    "  TYPE=oauth\n",
    "  OAUTH_CLIENT=snowservices_ingress\n",
    "  ENABLED=true;\n",
    "\n",
    "CREATE USER weaviate_user PASSWORD='weaviate123' DEFAULT_ROLE = WEAVIATE_ROLE DEFAULT_SECONDARY_ROLES = ('ALL') MUST_CHANGE_PASSWORD = FALSE;\n",
    "\n",
    "GRANT ROLE WEAVIATE_ROLE TO USER weaviate_user;\n",
    "\n",
    "ALTER USER weaviate_user SET DEFAULT_ROLE = WEAVIATE_ROLE;\n"
   ]
  },
  {
   "cell_type": "code",
   "execution_count": null,
   "metadata": {
    "vscode": {
     "languageId": "sql"
    }
   },
   "outputs": [],
   "source": [
    "------CREATE PRODUCT REVIEWS DATABASE -----\n",
    "USE ROLE SYSADMIN;\n",
    "\n",
    "CREATE OR REPLACE WAREHOUSE WEAVIATE_WAREHOUSE WITH\n",
    "  WAREHOUSE_SIZE='X-SMALL'\n",
    "  AUTO_SUSPEND = 180\n",
    "  AUTO_RESUME = true\n",
    "  INITIALLY_SUSPENDED=false;\n",
    "\n",
    "CREATE DATABASE IF NOT EXISTS WEAVIATE_PRODUCT_REVIEWS;\n",
    "\n",
    "GRANT all on database WEAVIATE_PRODUCT_REVIEWS to role WEAVIATE_ROLE;\n",
    "\n",
    "USE DATABASE WEAVIATE_PRODUCT_REVIEWS;"
   ]
  },
  {
   "cell_type": "code",
   "execution_count": null,
   "metadata": {
    "vscode": {
     "languageId": "sql"
    }
   },
   "outputs": [],
   "source": [
    "--------CREATE FILE FORMAT  -----\n",
    "\n",
    "create or replace file format my_csv_format \n",
    "  type = csv \n",
    "  field_delimiter = ',' \n",
    "  skip_header = 1 \n",
    "  null_if = ('NULL', 'null') \n",
    "  FIELD_OPTIONALLY_ENCLOSED_BY='\"'\n",
    "  empty_field_as_null = true;\n",
    "\n",
    "-----CREATE STAGES--------\n",
    "\n",
    "CREATE OR REPLACE STAGE REVIEW_DATA ENCRYPTION = (TYPE = 'SNOWFLAKE_SSE');\n",
    "CREATE OR REPLACE STAGE YAML_STAGE;\n",
    "CREATE OR REPLACE STAGE DATA ENCRYPTION = (TYPE = 'SNOWFLAKE_SSE');\n",
    "CREATE OR REPLACE STAGE FILES ENCRYPTION = (TYPE = 'SNOWFLAKE_SSE');\n",
    "\n",
    "grant all PRIVILEGES on stage REVIEW_DATA to WEAVIATE_ROLE;\n",
    "grant all PRIVILEGES on schema PUBLIC to WEAVIATE_ROLE;\n",
    "grant all on schema PUBLIC to role WEAVIATE_ROLE;"
   ]
  },
  {
   "cell_type": "code",
   "execution_count": null,
   "metadata": {
    "vscode": {
     "languageId": "sql"
    }
   },
   "outputs": [],
   "source": [
    "--------CREATE TABLES------------\n",
    "\n",
    "CREATE OR REPLACE TABLE \n",
    "    PRODUCT_REVIEWS (REVIEWERID varchar, ASIN varchar, \n",
    "    REVIEWERNAME varchar, HELPFUL varchar, \n",
    "    REVIEWTEXT varchar, OVERALL varchar, \n",
    "    SUMMARY varchar, UNIXREVIEWTIME varchar, REVIEWTIME varchar);\n",
    "\n",
    "CREATE OR REPLACE TABLE \n",
    "    PRODUCTS (ASIN varchar,\n",
    "    NAME varchar, \n",
    "    REVIEW_SUMMARY varchar,\n",
    "    DESCRIPTION varchar, \n",
    "    FEATURES varchar);\n",
    "\n"
   ]
  },
  {
   "cell_type": "code",
   "execution_count": null,
   "metadata": {
    "vscode": {
     "languageId": "sql"
    }
   },
   "outputs": [],
   "source": [
    "----------PUT DATA FILE INTO STAGE ------------\n",
    "PUT file:///<PATH>/Data/Musical_instruments_reviews.csv @REVIEW_DATA overwrite=true;\n",
    "\n",
    "------------COPY DATA INTO SNOWFLAKE TABLES------------\n",
    "COPY INTO PRODUCT_REVIEWS FROM @REVIEW_DATA FILE_FORMAT = (format_name = 'my_csv_format' , error_on_column_count_mismatch=false) \n",
    "  pattern = '.*Musical_instruments_reviews.csv.gz' on_error = 'skip_file';\n",
    "\n",
    "--------Confirm data is there----------\n",
    "SELECT REVIEWERID FROM PRODUCT_REVIEWS; \n",
    "\n",
    "-------GRANT PERMISSION TO USER --------\n",
    "GRANT SELECT ON TABLE PRODUCT_REVIEWS TO ROLE WEAVIATE_ROLE;\n",
    "GRANT ALL on TABLE PRODUCTS TO ROLE WEAVIATE_ROLE;\n"
   ]
  },
  {
   "cell_type": "markdown",
   "metadata": {},
   "source": [
    "Update Spec files\n",
    "Update the image URL with both the account and the database format_name\n",
    "\n",
    "get the accountname-orgname value from snowflake\n",
    "Account-Org \n",
    "\n",
    "\n",
    "Navigate to folder OllamaDocker in repo"
   ]
  },
  {
   "cell_type": "code",
   "execution_count": null,
   "metadata": {
    "vscode": {
     "languageId": "sql"
    }
   },
   "outputs": [],
   "source": [
    "\n",
    "--Create an image repo\n",
    "CREATE OR REPLACE IMAGE REPOSITORY WEAVIATE_PRODUCT_REVIEWS.PUBLIC.WEAVIATE_REPO;\n",
    "\n",
    "--upload yaml files\n",
    "PUT file:///<PATH>spec-jupyter.yaml @yaml_stage overwrite=true auto_compress=false;\n",
    "PUT file:///<PATH>spec-text2vec.yaml @yaml_stage overwrite=true auto_compress=false;\n",
    "PUT file:///<PATH>spec-weaviate.yaml @yaml_stage overwrite=true auto_compress=false;\n",
    "PUT file:///<PATH>spec-ollama.yaml @yaml_stage overwrite=true auto_compress=false;\n"
   ]
  },
  {
   "cell_type": "code",
   "execution_count": null,
   "metadata": {
    "vscode": {
     "languageId": "shellscript"
    }
   },
   "outputs": [],
   "source": [
    "#Login to snowflake with docker first\n",
    "docker login <SNOWACCOUNT-SNOWORG>.registry.snowflakecomputing.com -u <USER>"
   ]
  },
  {
   "cell_type": "markdown",
   "metadata": {},
   "source": [
    "Grab a copy of the Ollama repo\n",
    "https://github.com/jmorganca/ollama\n",
    "\n",
    "\n",
    "Copy over the contents of the cookbooks/Ollama/OllamaDocker folder to the root of the Ollama repo"
   ]
  },
  {
   "cell_type": "code",
   "execution_count": null,
   "metadata": {
    "vscode": {
     "languageId": "shellscript"
    }
   },
   "outputs": [],
   "source": [
    "#Build ollama\n",
    "docker build --rm --platform linux/amd64 -t ollama .\n",
    "#Tag\n",
    "docker tag ollama <SNOWACCOUNT-SNOWORG>.registry.snowflakecomputing.com/weaviate_product_reviews/public/weaviate_repo/ollama\n",
    "#Push\n",
    "docker push <SNOWACCOUNT-SNOWORG>.registry.snowflakecomputing.com/weaviate_product_reviews/public/weaviate_repo/ollama\n"
   ]
  },
  {
   "cell_type": "code",
   "execution_count": null,
   "metadata": {
    "vscode": {
     "languageId": "shellscript"
    }
   },
   "outputs": [],
   "source": [
    "\n",
    "#----weaviate------\n",
    "docker build --rm --platform linux/amd64 -t weaviate -f weaviate.Dockerfile . \n",
    "docker tag weaviate <SNOWACCOUNT-SNOWORG>.registry.snowflakecomputing.com/weaviate_product_reviews/public/weaviate_repo/weaviate\n",
    "docker push <SNOWACCOUNT-SNOWORG>.registry.snowflakecomputing.com/weaviate_product_reviews/public/weaviate_repo/weaviate\n",
    "\n",
    "#----text2vec------\n",
    "docker build --rm --platform linux/amd64 -t text2vec -f text2vec.Dockerfile . \n",
    "docker tag text2vec <SNOWACCOUNT-SNOWORG>.registry.snowflakecomputing.com/weaviate_product_reviews/public/weaviate_repo/text2vec\n",
    "docker push <SNOWACCOUNT-SNOWORG>.registry.snowflakecomputing.com/weaviate_product_reviews/public/weaviate_repo/text2vec\n",
    "\n",
    "#--------Jupyter-------\n",
    "docker build --rm --platform linux/amd64 -t jupyter -f jupyter.Dockerfile . \n",
    "docker tag jupyter <SNOWACCOUNT-SNOWORG>.registry.snowflakecomputing.com/weaviate_product_reviews/public/weaviate_repo/jupyter\n",
    "docker push <SNOWACCOUNT-SNOWORG>.registry.snowflakecomputing.com/weaviate_product_reviews/public/weaviate_repo/jupyter\n"
   ]
  },
  {
   "cell_type": "code",
   "execution_count": null,
   "metadata": {
    "vscode": {
     "languageId": "sql"
    }
   },
   "outputs": [],
   "source": [
    "-----------Create Compute Pools--------\n",
    "CREATE COMPUTE POOL OLLAMA_POOL\n",
    "MIN_NODES = 1\n",
    "MAX_NODES = 1\n",
    "INSTANCE_FAMILY = GPU_NV_M;\n",
    "\n",
    "DESCRIBE COMPUTE POOL OLLAMA_POOL;\n"
   ]
  },
  {
   "cell_type": "markdown",
   "metadata": {},
   "source": [
    "The compute pool takes 3-4 mins to start"
   ]
  },
  {
   "cell_type": "code",
   "execution_count": null,
   "metadata": {
    "vscode": {
     "languageId": "sql"
    }
   },
   "outputs": [],
   "source": [
    "---------Create service------------\n",
    "\n",
    "  CREATE SERVICE  OLLAMA\n",
    "  IN COMPUTE POOL OLLAMA_POOL\n",
    "  FROM @YAML_STAGE\n",
    "  SPEC='spec-ollama.yaml'\n",
    "  MIN_INSTANCES=1\n",
    "  MAX_INSTANCES=1;\n",
    "\n",
    "show services;"
   ]
  },
  {
   "cell_type": "markdown",
   "metadata": {},
   "source": [
    "The service takes about 5+ mins to start"
   ]
  },
  {
   "cell_type": "code",
   "execution_count": null,
   "metadata": {
    "vscode": {
     "languageId": "sql"
    }
   },
   "outputs": [],
   "source": [
    "GRANT USAGE ON SERVICE OLLAMA TO ROLE WEAVIATE_ROLE;\n",
    "--Get the logs\n",
    "CALL SYSTEM$GET_SERVICE_LOGS('WEAVIATE_PRODUCT_REVIEWS.PUBLIC.OLLAMA', '0', 'ollama');\n",
    "--Check the status\n",
    "CALL SYSTEM$GET_SERVICE_STATUS('WEAVIATE_PRODUCT_REVIEWS.PUBLIC.OLLAMA', 100); \n",
    "\n",
    "SHOW ENDPOINTS IN SERVICE OLLAMA;\n",
    "\n"
   ]
  },
  {
   "cell_type": "markdown",
   "metadata": {},
   "source": [
    "Grab the endpoint for jupyter and navigate to it in your browser\n",
    "\n",
    "login with weaviate_user and weaviate123\n",
    "Note - this will take a few more mins to load the page \n",
    "\n",
    "Grab the key for jupyter from the logs using this command:\n",
    "CALL SYSTEM$GET_SERVICE_STATUS('WEAVIATE_PRODUCT_REVIEWS.PUBLIC.OLLAMA', 100); \n",
    "\n",
    "Login to jupyter by getting the endpoint with this command:\n",
    "SHOW ENDPOINTS IN SERVICE OLLAMA;\n",
    "\n",
    "Use key to login\n",
    "\n",
    "Once into Jupyter, create a console session\n",
    "start ollama\n",
    "/bin/ollama serve\n",
    "\n",
    "launch the model\n",
    "ollama run mistral\n",
    "\n",
    "ollama should be running now"
   ]
  },
  {
   "cell_type": "code",
   "execution_count": null,
   "metadata": {
    "vscode": {
     "languageId": "sql"
    }
   },
   "outputs": [],
   "source": [
    "---Create the rest of the services------\n",
    "CREATE COMPUTE POOL IF NOT EXISTS WEAVIATE_COMPUTE_POOL\n",
    "  MIN_NODES = 1\n",
    "  MAX_NODES = 1\n",
    "  INSTANCE_FAMILY = CPU_X64_S\n",
    "  AUTO_RESUME = true;\n",
    "\n",
    "CREATE COMPUTE POOL IF NOT EXISTS TEXT2VEC_COMPUTE_POOL\n",
    "  MIN_NODES = 1\n",
    "  MAX_NODES = 1\n",
    "  INSTANCE_FAMILY = GPU_NV_S\n",
    "  AUTO_RESUME = true;\n",
    "\n",
    "CREATE COMPUTE POOL IF NOT EXISTS JUPYTER_COMPUTE_POOL\n",
    "  MIN_NODES = 1\n",
    "  MAX_NODES = 1\n",
    "  INSTANCE_FAMILY = CPU_X64_S\n",
    "  AUTO_RESUME = true;\n",
    "\n",
    "\n",
    "CREATE SERVICE WEAVIATE\n",
    "  IN COMPUTE POOL WEAVIATE_COMPUTE_POOL \n",
    "  FROM @YAML_STAGE\n",
    "  SPEC='spec-weaviate.yaml'\n",
    "  MIN_INSTANCES=1\n",
    "  MAX_INSTANCES=1;\n",
    "\n",
    "CREATE SERVICE JUPYTER\n",
    "  IN COMPUTE POOL JUPYTER_COMPUTE_POOL \n",
    "  FROM @YAML_STAGE\n",
    "  SPEC='spec-jupyter.yaml'\n",
    "  MIN_INSTANCES=1\n",
    "  MAX_INSTANCES=1;\n",
    "\n",
    "CREATE SERVICE TEXT2VEC\n",
    "  IN COMPUTE POOL TEXT2VEC_COMPUTE_POOL \n",
    "  FROM @YAML_STAGE\n",
    "  SPEC='spec-text2vec.yaml'\n",
    "  MIN_INSTANCES=1\n",
    "  MAX_INSTANCES=1;\n"
   ]
  },
  {
   "cell_type": "code",
   "execution_count": null,
   "metadata": {
    "vscode": {
     "languageId": "sql"
    }
   },
   "outputs": [],
   "source": [
    "GRANT USAGE ON SERVICE JUPYTER TO ROLE WEAVIATE_ROLE;\n",
    "GRANT USAGE ON SERVICE WEAVIATE TO ROLE WEAVIATE_ROLE;\n",
    "GRANT USAGE ON SERVICE TEXT2VEC TO ROLE WEAVIATE_ROLE;\n",
    "\n",
    "CALL SYSTEM$GET_SERVICE_LOGS('WEAVIATE_PRODUCT_REVIEWS.PUBLIC.JUPYTER', '0', 'jupyter');\n",
    "SHOW ENDPOINTS IN SERVICE jupyter;\n",
    "\n",
    "CALL SYSTEM$GET_SERVICE_LOGS('WEAVIATE_PRODUCT_REVIEWS.PUBLIC.WEAVIATE', '0', 'weaviate');\n"
   ]
  },
  {
   "cell_type": "code",
   "execution_count": null,
   "metadata": {
    "vscode": {
     "languageId": "sql"
    }
   },
   "outputs": [],
   "source": [
    "-------Update Permissions-----------\n",
    "GRANT USAGE ON SERVICE JUPYTER TO ROLE WEAVIATE_ROLE;\n",
    "GRANT USAGE ON SERVICE WEAVIATE TO ROLE WEAVIATE_ROLE;\n",
    "GRANT USAGE ON SERVICE TEXT2VEC TO ROLE WEAVIATE_ROLE;\n",
    "GRANT USAGE ON SERVICE MISTRAL TO ROLE WEAVIATE_ROLE;\n",
    "GRANT USAGE on warehouse WEAVIATE_WAREHOUSE to role WEAVIATE_ROLE;"
   ]
  },
  {
   "cell_type": "code",
   "execution_count": null,
   "metadata": {
    "vscode": {
     "languageId": "sql"
    }
   },
   "outputs": [],
   "source": [
    "-----temporarily pause instance ----------\n",
    "ALTER COMPUTE POOL MISTRAL_POOL SUSPEND;\n",
    "ALTER SERVICE MINSTRAL SUSPEND;\n",
    "\n",
    "-----------Cleanup stuff that costs money---------------\n",
    "USE ROLE ACCOUNTADMIN;\n",
    "\n",
    "DROP SERVICE WEAVIATE;\n",
    "DROP SERVICE JUPYTER;\n",
    "DROP SERVICE TEXT2VEC;\n",
    "DROP SERVICE OLLAMA;\n",
    "\n",
    "DROP COMPUTE POOL WEAVIATE_COMPUTE_POOL;\n",
    "DROP COMPUTE POOL JUPYTER_COMPUTE_POOL;\n",
    "DROP COMPUTE POOL TEXT2VEC_COMPUTE_POOL;\n",
    "DROP COMPUTE POOL OLLAMA_POOL;"
   ]
  },
  {
   "cell_type": "code",
   "execution_count": null,
   "metadata": {
    "vscode": {
     "languageId": "sql"
    }
   },
   "outputs": [],
   "source": [
    "----Really clean up everything------\n",
    "\n",
    "DROP IMAGE REPOSITORY WEAVIATE_PRODUCT_REVIEWS.PUBLIC.WEAVIATE_REPO;\n",
    "\n",
    "DROP DATABASE WEAVIATE_PRODUCT_REVIEWS.PUBLIC;\n",
    "\n",
    "DROP WAREHOUSE WEAVIATE_WAREHOUSE;\n",
    "\n",
    "DROP USER weaviate_user;\n",
    "\n",
    "DROP ROLE WEAVIATE_ROLE;\n",
    "\n",
    "DROP SECURITY INTEGRATION SNOWSERVICES_INGRESS_OAUTH;"
   ]
  }
 ],
 "metadata": {
  "language_info": {
   "name": "python"
  },
  "orig_nbformat": 4
 },
 "nbformat": 4,
 "nbformat_minor": 2
}
